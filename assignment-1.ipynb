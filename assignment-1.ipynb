{
 "cells": [
  {
   "cell_type": "code",
   "execution_count": null,
   "id": "8bde5f16",
   "metadata": {},
   "outputs": [],
   "source": [
    "1. In the below elements which of them are values or an expression? eg:- values can be integer or string and expressions will be mathematical operators.\n",
    "ans :\n",
    "    *         = Arithmatic Operator\n",
    "    'hello'   = string\n",
    "    -87.8     = float value\n",
    "    -         = Arithmatic Operator\n",
    "    /         = Arithmatic Operator      \n",
    "    +         = Arithmatic Operator\n",
    "    6         = integer value"
   ]
  },
  {
   "cell_type": "code",
   "execution_count": null,
   "id": "e2992d5a",
   "metadata": {},
   "outputs": [],
   "source": [
    "2. What is the difference between string and variable?\n",
    "ans:\n",
    "    name = 'sam'\n",
    "    as shown above name is said to be a variable and 'sam' is said to be a string\n",
    "    so variable means which stores the value and string means which is declared in single or double quotation. "
   ]
  },
  {
   "cell_type": "code",
   "execution_count": null,
   "id": "69180b30",
   "metadata": {},
   "outputs": [],
   "source": [
    "3. Describe three different data types.\n",
    "ans:\n",
    "    integer,string,float"
   ]
  },
  {
   "cell_type": "code",
   "execution_count": null,
   "id": "fa5589c7",
   "metadata": {},
   "outputs": [],
   "source": [
    "4. What is an expression made up of? What do all expressions do?\n",
    "ans:\n",
    "    expression is a made up of variable,values and operators.\n",
    "    All expressions evaluate the equations and reduces to a single value."
   ]
  },
  {
   "cell_type": "code",
   "execution_count": null,
   "id": "5d979528",
   "metadata": {},
   "outputs": [],
   "source": [
    "5. This assignment statements, like spam = 10. What is the difference between an expression and a statement?\n",
    "ans:\n",
    "    An expression means which evaluates to a single value,but statement does not and statement means like command eg:print."
   ]
  },
  {
   "cell_type": "code",
   "execution_count": 2,
   "id": "d42d38b9",
   "metadata": {},
   "outputs": [
    {
     "data": {
      "text/plain": [
       "23"
      ]
     },
     "execution_count": 2,
     "metadata": {},
     "output_type": "execute_result"
    }
   ],
   "source": [
    "#6. After running the following code, what does the variable bacon contain?\n",
    "#bacon = 22\n",
    "#bacon + 1\n",
    "#ans:\n",
    "bacon = 22\n",
    "bacon + 1\n",
    "    "
   ]
  },
  {
   "cell_type": "code",
   "execution_count": null,
   "id": "d35bc51e",
   "metadata": {},
   "outputs": [],
   "source": [
    "After running the following code,the variable bacon contain 23."
   ]
  },
  {
   "cell_type": "code",
   "execution_count": null,
   "id": "bedd30c9",
   "metadata": {},
   "outputs": [],
   "source": [
    "7. What should the values of the following two terms be?\n",
    "'spam' + 'spamspam'\n",
    "'spam' * 3\n",
    "ans:   "
   ]
  },
  {
   "cell_type": "code",
   "execution_count": 3,
   "id": "c94c509e",
   "metadata": {},
   "outputs": [
    {
     "data": {
      "text/plain": [
       "'spamspamspam'"
      ]
     },
     "execution_count": 3,
     "metadata": {},
     "output_type": "execute_result"
    }
   ],
   "source": [
    "'spam' + 'spamspam'"
   ]
  },
  {
   "cell_type": "code",
   "execution_count": 4,
   "id": "afd8ea9d",
   "metadata": {},
   "outputs": [
    {
     "data": {
      "text/plain": [
       "'spamspamspam'"
      ]
     },
     "execution_count": 4,
     "metadata": {},
     "output_type": "execute_result"
    }
   ],
   "source": [
    "'spam' * 3"
   ]
  },
  {
   "cell_type": "code",
   "execution_count": null,
   "id": "4bc6fea7",
   "metadata": {},
   "outputs": [],
   "source": [
    "the values is same"
   ]
  },
  {
   "cell_type": "code",
   "execution_count": null,
   "id": "9b9946e8",
   "metadata": {},
   "outputs": [],
   "source": [
    "8. Why is eggs a valid variable name while 100 is invalid?\n",
    "ans:\n",
    "    eggs is a valid variable name because variable name should start with abphabets and 100 is a invalid because variable name cannot start with integer but eggs100 will be a valid variable name."
   ]
  },
  {
   "cell_type": "code",
   "execution_count": null,
   "id": "24f864e9",
   "metadata": {},
   "outputs": [],
   "source": [
    "9. What three functions can be used to get the integer, floating-point number, or string version of a value?\n",
    "ans:\n",
    "    int(), float(), and str()"
   ]
  },
  {
   "cell_type": "code",
   "execution_count": null,
   "id": "cd7caa23",
   "metadata": {},
   "outputs": [],
   "source": [
    "10. Why does this expression cause an error? How can you fix it?\n",
    "'I have eaten ' + 99 + ' burritos.'\n",
    "ans:\n",
    "    The expression causes an error because 99 is an integer,because str can only concatenate str (not \"int\") to str."
   ]
  },
  {
   "cell_type": "code",
   "execution_count": 5,
   "id": "072df739",
   "metadata": {},
   "outputs": [
    {
     "ename": "TypeError",
     "evalue": "can only concatenate str (not \"int\") to str",
     "output_type": "error",
     "traceback": [
      "\u001b[1;31m---------------------------------------------------------------------------\u001b[0m",
      "\u001b[1;31mTypeError\u001b[0m                                 Traceback (most recent call last)",
      "\u001b[1;32m~\\AppData\\Local\\Temp/ipykernel_9136/1774935878.py\u001b[0m in \u001b[0;36m<module>\u001b[1;34m\u001b[0m\n\u001b[1;32m----> 1\u001b[1;33m \u001b[1;34m'I have eaten '\u001b[0m \u001b[1;33m+\u001b[0m \u001b[1;36m99\u001b[0m \u001b[1;33m+\u001b[0m \u001b[1;34m' burritos.'\u001b[0m\u001b[1;33m\u001b[0m\u001b[1;33m\u001b[0m\u001b[0m\n\u001b[0m",
      "\u001b[1;31mTypeError\u001b[0m: can only concatenate str (not \"int\") to str"
     ]
    }
   ],
   "source": [
    "'I have eaten ' + 99 + ' burritos.'"
   ]
  },
  {
   "cell_type": "code",
   "execution_count": 6,
   "id": "1d8596d7",
   "metadata": {},
   "outputs": [
    {
     "data": {
      "text/plain": [
       "'I have eaten 99 burritos.'"
      ]
     },
     "execution_count": 6,
     "metadata": {},
     "output_type": "execute_result"
    }
   ],
   "source": [
    "#we can fix this by type casting \n",
    "'I have eaten ' + str(99) + ' burritos.'"
   ]
  }
 ],
 "metadata": {
  "kernelspec": {
   "display_name": "Python 3 (ipykernel)",
   "language": "python",
   "name": "python3"
  },
  "language_info": {
   "codemirror_mode": {
    "name": "ipython",
    "version": 3
   },
   "file_extension": ".py",
   "mimetype": "text/x-python",
   "name": "python",
   "nbconvert_exporter": "python",
   "pygments_lexer": "ipython3",
   "version": "3.9.7"
  }
 },
 "nbformat": 4,
 "nbformat_minor": 5
}
